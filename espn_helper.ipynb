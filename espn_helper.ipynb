{
 "cells": [
  {
   "cell_type": "code",
   "execution_count": null,
   "metadata": {},
   "outputs": [],
   "source": []
  },
  {
   "cell_type": "code",
   "execution_count": null,
   "metadata": {},
   "outputs": [],
   "source": [
    "url = \"https://lm-api-reads.fantasy.espn.com/apis/v3/games/flb/leagueHistory/202084?view=mDraftDetail&view=mSettings&view=mTeam&view=modular&view=mNav&seasonId=2024\"\n",
    "r = requests.get(url, headers=ESPN_HEADERS, cookies=ESPN_COOKIES)\n",
    "r.json()\n",
    "\n",
    "url = \"https://lm-api-reads.fantasy.espn.com/apis/v3/games/flb/seasons/2025/segments/0/leagues/202084?scoringPeriodId=0&view=kona_player_info\"\n",
    "r = requests.get(url, headers=ESPN_HEADERS, cookies=ESPN_COOKIES)\n",
    "r.json()\n",
    "\n",
    "url = \"https://lm-api-reads.fantasy.espn.com/apis/v3/games/flb/seasons/2024/players?scoringPeriodId=0&view=players_wl\"\n",
    "r = requests.get(url, headers=ESPN_HEADERS, cookies=ESPN_COOKIES)\n",
    "r.json()\n",
    "\n",
    "url = \"https://lm-api-reads.fantasy.espn.com/apis/v3/games/flb/seasons/2025?view=proTeamSchedules_wl\"\n",
    "r = requests.get(url, headers=ESPN_HEADERS, cookies=ESPN_COOKIES)\n",
    "r.json()\n",
    "\n",
    "url = \"https://site.web.api.espn.com/apis/site/v2/teams?region=us&lang=en&leagues=mlb%2Cnba%2Cnfl%2Cnhl%2Cwnba\"\n",
    "r = requests.get(url, headers=ESPN_HEADERS, cookies=ESPN_COOKIES)\n",
    "r.json()\n",
    "\n",
    "url = \"https://lm-api-reads.fantasy.espn.com/apis/v3/games/flb/leagueHistory/202084?view=kona_history_standings\"\n",
    "r = requests.get(url, headers=ESPN_HEADERS, cookies=ESPN_COOKIES)\n",
    "r.json()\n",
    "\n",
    "url = 'https://site.api.espn.com/apis/fantasy/v3/games/flb/news/players?days=30&playerId=33244'\n",
    "r = requests.get(url, headers=ESPN_HEADERS, cookies=ESPN_COOKIES)\n",
    "r.json()"
   ]
  }
 ],
 "metadata": {
  "language_info": {
   "name": "python"
  }
 },
 "nbformat": 4,
 "nbformat_minor": 2
}
